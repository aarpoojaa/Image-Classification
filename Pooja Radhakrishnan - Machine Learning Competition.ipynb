{
 "cells": [
  {
   "cell_type": "markdown",
   "metadata": {
    "colab_type": "text",
    "id": "TkotDVjKA_US"
   },
   "source": [
    "This competition is based on cifar100 dataset for object classification.\n",
    "It has 100 classes containing 600 images each. There are 500 training images and 100 testing images per class.\n",
    "\n",
    "See this link for details about different categories.\n",
    "https://www.cs.toronto.edu/~kriz/cifar.html\n",
    "\n",
    "Note that:\n",
    "- Test set and label are provided. Generally test set label are not given in a competition.\n",
    "\n",
    "\n",
    "Rule:\n",
    " - Given that we are unable to cover deep learning in any depth during the quarter, you can't use any deep learning based method in this competition.\n",
    " - You have to report accuracy,  f1 score and confusion matrix in this classification challenge.\n",
    " - (4 points) First method is based on the models you already build in this class,  QDA and multiclass logistic regression etc. You can also use PCA/LDA for dimensionality reduction too before building the classifier. You are free to copy paste your solution code from homeworks.\n",
    " - (4 points)Second method is based on sklearn library. You are free to choose any method.\n",
    " \n",
    " \n",
    " Note that you need to split data into train and validation set for tunning any hyper parameter.\n",
    " We did tunning of hyper-parameter $\\lambda$ in ridge regression homework.\n",
    " \n",
    " If your best accuracy score fall into into\n",
    "  - top 40% you will get 1 extra point.\n",
    "  - between top 40% and 80% .5 extra point\n",
    "  \n",
    "  \n",
    "  # Distribution of 4 points for each method\n",
    "  - 1 points code correctness in each method.\n",
    "  - 1 point right tunning of hyper parameters using validation set(model selection).\n",
    "  - 1 Correctness of overall code.\n",
    "  - 1 point reporting the accuracy and f1 score on test set and confusion matrix interpretation.\n",
    "  "
   ]
  },
  {
   "cell_type": "markdown",
   "metadata": {
    "colab_type": "text",
    "id": "EEjr1RImrLgC"
   },
   "source": [
    "# Here is sample starter code and results based on MultinomialNB. I didn't tune hyper parameter in the provide sample."
   ]
  },
  {
   "cell_type": "code",
   "execution_count": 1,
   "metadata": {
    "colab": {},
    "colab_type": "code",
    "id": "ktYotyRTA9nL"
   },
   "outputs": [],
   "source": [
    "import numpy as np"
   ]
  },
  {
   "cell_type": "code",
   "execution_count": 2,
   "metadata": {
    "colab": {
     "base_uri": "https://localhost:8080/",
     "height": 71
    },
    "colab_type": "code",
    "id": "J8hFbDeo4aVh",
    "outputId": "baf22957-d5c6-495a-9047-d6b8b602e78b"
   },
   "outputs": [
    {
     "name": "stderr",
     "output_type": "stream",
     "text": [
      "Using TensorFlow backend.\n"
     ]
    }
   ],
   "source": [
    "from keras.datasets import cifar100\n",
    "\n",
    "(x_train, y_train), (x_test, y_test) = cifar100.load_data()"
   ]
  },
  {
   "cell_type": "code",
   "execution_count": 3,
   "metadata": {
    "colab": {
     "base_uri": "https://localhost:8080/",
     "height": 35
    },
    "colab_type": "code",
    "id": "E5MjjxV24eDk",
    "outputId": "5f92d689-856f-4960-d08b-f74884230410"
   },
   "outputs": [
    {
     "data": {
      "text/plain": [
       "((50000, 32, 32, 3), (10000, 32, 32, 3))"
      ]
     },
     "execution_count": 3,
     "metadata": {},
     "output_type": "execute_result"
    }
   ],
   "source": [
    "x_train.shape, x_test.shape"
   ]
  },
  {
   "cell_type": "markdown",
   "metadata": {
    "colab_type": "text",
    "id": "KKoFcjcqrxX9"
   },
   "source": [
    "Let's convert images to gray scale and plot some of them. You are supposed to work with gray scale images."
   ]
  },
  {
   "cell_type": "code",
   "execution_count": 4,
   "metadata": {
    "colab": {},
    "colab_type": "code",
    "id": "C-gmwNli4woQ"
   },
   "outputs": [],
   "source": [
    "from skimage.color import rgb2gray"
   ]
  },
  {
   "cell_type": "code",
   "execution_count": 5,
   "metadata": {
    "colab": {},
    "colab_type": "code",
    "id": "6-Px_RmB433K"
   },
   "outputs": [],
   "source": [
    "import matplotlib.pyplot as plt\n",
    "%matplotlib inline"
   ]
  },
  {
   "cell_type": "code",
   "execution_count": 6,
   "metadata": {
    "colab": {},
    "colab_type": "code",
    "id": "VzjwysMn5HuH"
   },
   "outputs": [],
   "source": [
    "x_train_data= np.zeros((50000, 32, 32))"
   ]
  },
  {
   "cell_type": "code",
   "execution_count": 7,
   "metadata": {
    "colab": {},
    "colab_type": "code",
    "id": "v80GhAvG5vkU"
   },
   "outputs": [],
   "source": [
    "for i, x in enumerate(x_train):\n",
    "  x_train_data[i] = rgb2gray(x)\n",
    "  "
   ]
  },
  {
   "cell_type": "code",
   "execution_count": 8,
   "metadata": {
    "colab": {},
    "colab_type": "code",
    "id": "KOeMTDiN5_1d"
   },
   "outputs": [],
   "source": [
    "x_test_data= np.zeros((10000, 32, 32))\n",
    "for i, x in enumerate(x_test):\n",
    "  x_test_data[i] = rgb2gray(x)"
   ]
  },
  {
   "cell_type": "code",
   "execution_count": 9,
   "metadata": {
    "colab": {
     "base_uri": "https://localhost:8080/",
     "height": 1000
    },
    "colab_type": "code",
    "id": "SeRVmoKt6PCi",
    "outputId": "6d190f83-c052-4591-8089-391d78108782"
   },
   "outputs": [
    {
     "name": "stderr",
     "output_type": "stream",
     "text": [
      "/anaconda3/lib/python3.7/site-packages/matplotlib/text.py:1191: FutureWarning: elementwise comparison failed; returning scalar instead, but in the future will perform elementwise comparison\n",
      "  if s != self._text:\n"
     ]
    },
    {
     "data": {
      "image/png": "[encoded data removed]",
      "text/plain": [
       "<Figure size 144x144 with 1 Axes>"
      ]
     },
     "metadata": {
      "needs_background": "light"
     },
     "output_type": "display_data"
    },
    {
     "data": {
      "image/png": "[encoded data removed]",
      "text/plain": [
       "<Figure size 144x144 with 1 Axes>"
      ]
     },
     "metadata": {
      "needs_background": "light"
     },
     "output_type": "display_data"
    },
    {
     "data": {
      "image/png": "[encoded data removed]",
      "text/plain": [
       "<Figure size 144x144 with 1 Axes>"
      ]
     },
     "metadata": {
      "needs_background": "light"
     },
     "output_type": "display_data"
    },
    {
     "data": {
      "image/png": "[encoded data removed]",
      "text/plain": [
       "<Figure size 144x144 with 1 Axes>"
      ]
     },
     "metadata": {
      "needs_background": "light"
     },
     "output_type": "display_data"
    },
    {
     "data": {
      "image/png": "[encoded data removed]",
      "text/plain": [
       "<Figure size 144x144 with 1 Axes>"
      ]
     },
     "metadata": {
      "needs_background": "light"
     },
     "output_type": "display_data"
    },
    {
     "data": {
      "image/png": "[encoded data removed]",
      "text/plain": [
       "<Figure size 144x144 with 1 Axes>"
      ]
     },
     "metadata": {
      "needs_background": "light"
     },
     "output_type": "display_data"
    },
    {
     "data": {
      "image/png": "[encoded data removed]",
      "text/plain": [
       "<Figure size 144x144 with 1 Axes>"
      ]
     },
     "metadata": {
      "needs_background": "light"
     },
     "output_type": "display_data"
    },
    {
     "data": {
      "image/png": "[encoded data removed]",
      "text/plain": [
       "<Figure size 144x144 with 1 Axes>"
      ]
     },
     "metadata": {
      "needs_background": "light"
     },
     "output_type": "display_data"
    },
    {
     "data": {
      "image/png": "[encoded data removed]",
      "text/plain": [
       "<Figure size 144x144 with 1 Axes>"
      ]
     },
     "metadata": {
      "needs_background": "light"
     },
     "output_type": "display_data"
    },
    {
     "data": {
      "image/png": "[encoded data removed]",
      "text/plain": [
       "<Figure size 144x144 with 1 Axes>"
      ]
     },
     "metadata": {
      "needs_background": "light"
     },
     "output_type": "display_data"
    }
   ],
   "source": [
    "for i in range(10):\n",
    "  plt.figure(figsize= (2,2))\n",
    "  plt.imshow(x_train_data[i], cmap='gray')\n",
    "  plt.title(y_train[i])\n",
    "  plt.show()\n"
   ]
  },
  {
   "cell_type": "code",
   "execution_count": 10,
   "metadata": {
    "colab": {
     "base_uri": "https://localhost:8080/",
     "height": 1000
    },
    "colab_type": "code",
    "id": "rTUrmZ4k6m-e",
    "outputId": "2182e2c8-4a1e-4d4c-d70e-51cb469bb45e",
    "scrolled": false
   },
   "outputs": [
    {
     "data": {
      "image/png": "[encoded data removed]",
      "text/plain": [
       "<Figure size 432x288 with 1 Axes>"
      ]
     },
     "metadata": {
      "needs_background": "light"
     },
     "output_type": "display_data"
    },
    {
     "data": {
      "image/png": "[encoded data removed]",
      "text/plain": [
       "<Figure size 432x288 with 1 Axes>"
      ]
     },
     "metadata": {
      "needs_background": "light"
     },
     "output_type": "display_data"
    },
    {
     "data": {
      "image/png": "[encoded data removed]",
      "text/plain": [
       "<Figure size 432x288 with 1 Axes>"
      ]
     },
     "metadata": {
      "needs_background": "light"
     },
     "output_type": "display_data"
    },
    {
     "data": {
      "image/png": "[encoded data removed]",
      "text/plain": [
       "<Figure size 432x288 with 1 Axes>"
      ]
     },
     "metadata": {
      "needs_background": "light"
     },
     "output_type": "display_data"
    },
    {
     "data": {
      "image/png": "[encoded data removed]",
      "text/plain": [
       "<Figure size 432x288 with 1 Axes>"
      ]
     },
     "metadata": {
      "needs_background": "light"
     },
     "output_type": "display_data"
    },
    {
     "data": {
      "image/png": "[encoded data removed]",
      "text/plain": [
       "<Figure size 432x288 with 1 Axes>"
      ]
     },
     "metadata": {
      "needs_background": "light"
     },
     "output_type": "display_data"
    },
    {
     "data": {
      "image/png": "[encoded data removed]",
      "text/plain": [
       "<Figure size 432x288 with 1 Axes>"
      ]
     },
     "metadata": {
      "needs_background": "light"
     },
     "output_type": "display_data"
    },
    {
     "data": {
      "image/png": "[encoded data removed]",
      "text/plain": [
       "<Figure size 432x288 with 1 Axes>"
      ]
     },
     "metadata": {
      "needs_background": "light"
     },
     "output_type": "display_data"
    },
    {
     "data": {
      "image/png": "[encoded data removed]",
      "text/plain": [
       "<Figure size 432x288 with 1 Axes>"
      ]
     },
     "metadata": {
      "needs_background": "light"
     },
     "output_type": "display_data"
    },
    {
     "data": {
      "image/png": "[encoded data removed]",
      "text/plain": [
       "<Figure size 432x288 with 1 Axes>"
      ]
     },
     "metadata": {
      "needs_background": "light"
     },
     "output_type": "display_data"
    }
   ],
   "source": [
    "for i in range(10):\n",
    "  plt.imshow(x_test_data[i], cmap='gray')\n",
    "  plt.show()"
   ]
  },
  {
   "cell_type": "markdown",
   "metadata": {
    "colab_type": "text",
    "id": "FccFyXW99VzG"
   },
   "source": [
    "Let's convert them to vector"
   ]
  },
  {
   "cell_type": "code",
   "execution_count": 11,
   "metadata": {
    "colab": {},
    "colab_type": "code",
    "id": "W5qYHt1U9eLJ"
   },
   "outputs": [],
   "source": [
    "x_train_data = x_train_data.reshape((50000, -1))"
   ]
  },
  {
   "cell_type": "code",
   "execution_count": 12,
   "metadata": {
    "colab": {},
    "colab_type": "code",
    "id": "79xJZqhf9ycv"
   },
   "outputs": [],
   "source": [
    "x_test_data = x_test_data.reshape((10000, -1))"
   ]
  },
  {
   "cell_type": "code",
   "execution_count": 13,
   "metadata": {
    "colab": {
     "base_uri": "https://localhost:8080/"
    },
    "colab_type": "code",
    "id": "h_jX0lo8Aa13",
    "outputId": "d7a767ae-6e21-4f55-d564-0f08cdd1dbca"
   },
   "outputs": [
    {
     "name": "stdout",
     "output_type": "stream",
     "text": [
      "(50000, 1024) (10000, 1024)\n"
     ]
    }
   ],
   "source": [
    "print(x_train_data.shape, x_test_data.shape)"
   ]
  },
  {
   "cell_type": "code",
   "execution_count": 14,
   "metadata": {
    "colab": {},
    "colab_type": "code",
    "id": "nKnXvRzb6zHH"
   },
   "outputs": [],
   "source": [
    "from sklearn.naive_bayes import  MultinomialNB"
   ]
  },
  {
   "cell_type": "code",
   "execution_count": 15,
   "metadata": {
    "colab": {},
    "colab_type": "code",
    "id": "tK-W3aVL7GDE"
   },
   "outputs": [],
   "source": [
    "mlnb = MultinomialNB()"
   ]
  },
  {
   "cell_type": "code",
   "execution_count": 16,
   "metadata": {
    "colab": {
     "base_uri": "https://localhost:8080/",
     "height": 35
    },
    "colab_type": "code",
    "id": "2hvOzwpA8Bg_",
    "outputId": "319d816e-5358-4fb3-8f11-c8cac733337d"
   },
   "outputs": [
    {
     "data": {
      "text/plain": [
       "MultinomialNB(alpha=1.0, class_prior=None, fit_prior=True)"
      ]
     },
     "execution_count": 16,
     "metadata": {},
     "output_type": "execute_result"
    }
   ],
   "source": [
    "mlnb.fit(x_train_data, y_train.ravel())"
   ]
  },
  {
   "cell_type": "code",
   "execution_count": 17,
   "metadata": {
    "colab": {},
    "colab_type": "code",
    "id": "NSJBI3K87Ulm"
   },
   "outputs": [],
   "source": [
    "y_test_pred = mlnb.predict(x_test_data)"
   ]
  },
  {
   "cell_type": "code",
   "execution_count": 18,
   "metadata": {
    "colab": {},
    "colab_type": "code",
    "id": "Rfbvdsjg8TT7"
   },
   "outputs": [],
   "source": [
    "from sklearn.metrics import accuracy_score, f1_score, confusion_matrix"
   ]
  },
  {
   "cell_type": "code",
   "execution_count": 19,
   "metadata": {
    "colab": {
     "base_uri": "https://localhost:8080/",
     "height": 35
    },
    "colab_type": "code",
    "id": "Fx0XeuDX8XbZ",
    "outputId": "425f9278-bc02-47a8-e8d7-460b01627518"
   },
   "outputs": [
    {
     "name": "stdout",
     "output_type": "stream",
     "text": [
      "0.0724\n"
     ]
    }
   ],
   "source": [
    "print(accuracy_score(y_test_pred, y_test))"
   ]
  },
  {
   "cell_type": "markdown",
   "metadata": {
    "colab_type": "text",
    "id": "0v_kWxdvsw_Z"
   },
   "source": [
    "# Write code for first method based on the work done in the class. You can't use any machine learning library. Use the classes or method we build in this course."
   ]
  },
  {
   "cell_type": "markdown",
   "metadata": {},
   "source": [
    "The dimensions need to be reduced, so trying out Dimensionality reduction techniques - PCA, LDA"
   ]
  },
  {
   "cell_type": "code",
   "execution_count": 62,
   "metadata": {
    "colab": {},
    "colab_type": "code",
    "id": "zzM8VcVmtH5T"
   },
   "outputs": [
    {
     "name": "stdout",
     "output_type": "stream",
     "text": [
      "(50000, 1024)\n"
     ]
    }
   ],
   "source": [
    "#PCA implementation\n",
    "#Vectorizing and centralizing the data\n",
    "mu = np.mean(x_train_data, axis=0)\n",
    "X_c = x_train_data - mu\n",
    "print(X_c.shape)"
   ]
  },
  {
   "cell_type": "code",
   "execution_count": 63,
   "metadata": {
    "colab": {},
    "colab_type": "code",
    "id": "im8MK6krtIDk"
   },
   "outputs": [],
   "source": [
    "U, E, VT = np.linalg.svd(X_c, full_matrices=False)"
   ]
  },
  {
   "cell_type": "code",
   "execution_count": 64,
   "metadata": {},
   "outputs": [
    {
     "data": {
      "text/plain": [
       "((50000, 1024), (1024,), (1024, 1024))"
      ]
     },
     "execution_count": 64,
     "metadata": {},
     "output_type": "execute_result"
    }
   ],
   "source": [
    "U.shape, E.shape, VT.shape"
   ]
  },
  {
   "cell_type": "code",
   "execution_count": 65,
   "metadata": {},
   "outputs": [],
   "source": [
    "relative_variance_capture =  np.cumsum(np.square(E))/np.sum(np.square(E))"
   ]
  },
  {
   "cell_type": "code",
   "execution_count": 83,
   "metadata": {},
   "outputs": [
    {
     "data": {
      "text/plain": [
       "37"
      ]
     },
     "execution_count": 83,
     "metadata": {},
     "output_type": "execute_result"
    }
   ],
   "source": [
    "per_var = relative_variance_capture[-1] * 0.86\n",
    "reduced_dim = np.where(relative_variance_capture >= per_var)[0][0]\n",
    "\n",
    "#reduced_dim = np.where(relative_variance_capture >= 0.96)[0][0]\n",
    "reduced_dim"
   ]
  },
  {
   "cell_type": "code",
   "execution_count": 84,
   "metadata": {},
   "outputs": [
    {
     "data": {
      "image/png": "[encoded data removed]",
      "text/plain": [
       "<Figure size 576x576 with 1 Axes>"
      ]
     },
     "metadata": {
      "needs_background": "light"
     },
     "output_type": "display_data"
    }
   ],
   "source": [
    "plt.figure(figsize=(8,8))\n",
    "\n",
    "plt.plot(reduced_dim, relative_variance_capture[reduced_dim]/relative_variance_capture[-1], 'ro')\n",
    "plt.plot(relative_variance_capture/relative_variance_capture[-1])\n",
    "plt.title('variance explained')\n",
    "plt.xlabel('num components')\n",
    "plt.ylabel('cumulative explained variance')\n",
    "plt.show()"
   ]
  },
  {
   "cell_type": "code",
   "execution_count": 85,
   "metadata": {},
   "outputs": [],
   "source": [
    "pca_X = np.dot(X_c, VT.T[:, :reduced_dim])\n",
    "xct = x_test_data - np.mean(x_test_data, axis = 0)\n",
    "pca_test_X = np.dot(xct, VT.T[:, :reduced_dim])"
   ]
  },
  {
   "cell_type": "code",
   "execution_count": 86,
   "metadata": {},
   "outputs": [
    {
     "data": {
      "text/plain": [
       "((50000, 1), (10000, 1))"
      ]
     },
     "execution_count": 86,
     "metadata": {},
     "output_type": "execute_result"
    }
   ],
   "source": [
    "y_train.shape, y_test.shape"
   ]
  },
  {
   "cell_type": "markdown",
   "metadata": {},
   "source": [
    "# Logistic Regression without sklearn"
   ]
  },
  {
   "cell_type": "code",
   "execution_count": 87,
   "metadata": {},
   "outputs": [],
   "source": [
    "import tensorflow as tf\n",
    "import numpy as np\n",
    "from sklearn.preprocessing import OneHotEncoder"
   ]
  },
  {
   "cell_type": "code",
   "execution_count": 88,
   "metadata": {},
   "outputs": [
    {
     "name": "stdout",
     "output_type": "stream",
     "text": [
      "(10000, 37)\n",
      "(50000, 100)\n"
     ]
    },
    {
     "name": "stderr",
     "output_type": "stream",
     "text": [
      "/anaconda3/lib/python3.7/site-packages/sklearn/preprocessing/_encoders.py:371: FutureWarning: The handling of integer data will change in version 0.22. Currently, the categories are determined based on the range [0, max(values)], while in the future they will be determined based on the unique values.\n",
      "If you want the future behaviour and silence this warning, you can specify \"categories='auto'\".\n",
      "In case you used a LabelEncoder before this OneHotEncoder to convert the categories to integers, then you can now use the OneHotEncoder directly.\n",
      "  warnings.warn(msg, FutureWarning)\n"
     ]
    }
   ],
   "source": [
    "mod = OneHotEncoder().fit(y_train)\n",
    "y_train_data = mod.transform(y_train).toarray()\n",
    "y_test_data = mod.transform(y_test).toarray()\n",
    "pca_X = np.asmatrix(pca_X)\n",
    "pca_test_X = np.asmatrix(pca_test_X)\n",
    "print(pca_test_X.shape)\n",
    "print(y_train_data.shape)"
   ]
  },
  {
   "cell_type": "code",
   "execution_count": 89,
   "metadata": {},
   "outputs": [
    {
     "name": "stdout",
     "output_type": "stream",
     "text": [
      "(?, 37) (?, 100)\n"
     ]
    }
   ],
   "source": [
    "NUM_CLASSES = y_train_data.shape[1]\n",
    "\n",
    "X =  tf.placeholder(tf.float32, [None, reduced_dim])\n",
    "Y = tf.placeholder(tf.float32, [None, NUM_CLASSES])\n",
    "print(X.shape, Y.shape)"
   ]
  },
  {
   "cell_type": "code",
   "execution_count": 90,
   "metadata": {},
   "outputs": [
    {
     "name": "stdout",
     "output_type": "stream",
     "text": [
      "(?, 37) (37, 100) (100, 1)\n",
      "shape of prediction vector is (100, ?)\n"
     ]
    }
   ],
   "source": [
    "\n",
    "with tf.variable_scope(\"multi_class_logistic_model\", reuse=tf.AUTO_REUSE):\n",
    "    W = tf.get_variable('Weight_matrix', initializer = tf.random_normal(shape = (reduced_dim, NUM_CLASSES)))    \n",
    "    W_o= tf.get_variable('W0_matrix', initializer = tf.zeros([NUM_CLASSES,1]))\n",
    "    print(X.shape, W.shape, W_o.shape)\n",
    "    # we have to do X traspose as examples are along the row and we need them along columns\n",
    "\n",
    "    Y_pred = tf.matmul(tf.transpose(W), tf.transpose(X))  + W_o\n",
    "    \n",
    "print('shape of prediction vector is {}'.format(Y_pred.shape))"
   ]
  },
  {
   "cell_type": "code",
   "execution_count": 91,
   "metadata": {},
   "outputs": [
    {
     "name": "stdout",
     "output_type": "stream",
     "text": [
      "shape of prediction vector is (?, 100)\n",
      "Shape of Y_pred_prob\n",
      "(?, 100)\n",
      "shape of predicted vector is (?, 100)\n"
     ]
    }
   ],
   "source": [
    "Y_pred = tf.transpose(Y_pred)\n",
    "print('shape of prediction vector is {}'.format(Y_pred.shape))\n",
    "Y_pred_prob = tf.nn.softmax(Y_pred)\n",
    "print(\"Shape of Y_pred_prob\")\n",
    "print(Y_pred_prob.shape)\n",
    "ypredicted = tf.math.argmax(Y_pred_prob,1)\n",
    "print('shape of predicted vector is {}'.format(Y_pred_prob.shape))"
   ]
  },
  {
   "cell_type": "code",
   "execution_count": 92,
   "metadata": {},
   "outputs": [
    {
     "data": {
      "text/plain": [
       "TensorShape([])"
      ]
     },
     "execution_count": 92,
     "metadata": {},
     "output_type": "execute_result"
    }
   ],
   "source": [
    "loss = -tf.math.reduce_mean(tf.linalg.tensor_diag_part(tf.matmul(Y, tf.transpose(tf.math.log(Y_pred_prob)))))\n",
    "pred_y = tf.math.argmax(Y_pred_prob, axis = 1)\n",
    "check = tf.math.equal(pred_y, tf.math.argmax(Y, axis = 1))\n",
    "accuracy = tf.math.reduce_mean(tf.dtypes.cast(check, tf.float32))\n",
    "accuracy.get_shape()"
   ]
  },
  {
   "cell_type": "code",
   "execution_count": 93,
   "metadata": {},
   "outputs": [],
   "source": [
    "opt = tf.train.GradientDescentOptimizer(0.5).minimize(loss)"
   ]
  },
  {
   "cell_type": "code",
   "execution_count": 94,
   "metadata": {},
   "outputs": [],
   "source": [
    "BATCH_SIZE = 100\n",
    "NUM_EPOCHS = 20"
   ]
  },
  {
   "cell_type": "code",
   "execution_count": 95,
   "metadata": {
    "scrolled": true
   },
   "outputs": [
    {
     "name": "stdout",
     "output_type": "stream",
     "text": [
      "epoch 1 training batch 100 loss 8.57666301727295 accu 0.019999999552965164\n",
      "epoch 1 training batch 200 loss 7.397863864898682 accu 0.03999999910593033\n",
      "epoch 1 training batch 300 loss 6.515039443969727 accu 0.03999999910593033\n",
      "epoch 1 training batch 400 loss 5.834508895874023 accu 0.029999999329447746\n",
      "epoch 1 training batch 500 loss 5.530388355255127 accu 0.05000000074505806\n",
      "##################################\n",
      "epoch 1 # test accuracy 0.045899998396635056 $ test loss 5.515614032745361\n",
      "##################################\n",
      "epoch 2 training batch 100 loss 5.147604942321777 accu 0.07000000029802322\n",
      "epoch 2 training batch 200 loss 5.085608959197998 accu 0.029999999329447746\n",
      "epoch 2 training batch 300 loss 4.906153678894043 accu 0.05999999865889549\n",
      "epoch 2 training batch 400 loss 4.635725021362305 accu 0.10000000149011612\n",
      "epoch 2 training batch 500 loss 4.607627868652344 accu 0.05000000074505806\n",
      "##################################\n",
      "epoch 2 # test accuracy 0.06880000233650208 $ test loss 4.6392669677734375\n",
      "##################################\n",
      "epoch 3 training batch 100 loss 4.548459053039551 accu 0.07000000029802322\n",
      "epoch 3 training batch 200 loss 4.570847034454346 accu 0.03999999910593033\n",
      "epoch 3 training batch 300 loss 4.450142860412598 accu 0.07999999821186066\n",
      "epoch 3 training batch 400 loss 4.258647441864014 accu 0.11999999731779099\n",
      "epoch 3 training batch 500 loss 4.353221893310547 accu 0.07000000029802322\n",
      "##################################\n",
      "epoch 3 # test accuracy 0.08209999650716782 $ test loss 4.372838020324707\n",
      "##################################\n",
      "epoch 4 training batch 100 loss 4.340923309326172 accu 0.07000000029802322\n",
      "epoch 4 training batch 200 loss 4.407379627227783 accu 0.07000000029802322\n",
      "epoch 4 training batch 300 loss 4.276362419128418 accu 0.09000000357627869\n",
      "epoch 4 training batch 400 loss 4.111405849456787 accu 0.10999999940395355\n",
      "epoch 4 training batch 500 loss 4.268829822540283 accu 0.09000000357627869\n",
      "##################################\n",
      "epoch 4 # test accuracy 0.0851999968290329 $ test loss 4.280235290527344\n",
      "##################################\n",
      "epoch 5 training batch 100 loss 4.264697074890137 accu 0.05999999865889549\n",
      "epoch 5 training batch 200 loss 4.347431182861328 accu 0.05999999865889549\n",
      "epoch 5 training batch 300 loss 4.20487117767334 accu 0.09000000357627869\n",
      "epoch 5 training batch 400 loss 4.049443244934082 accu 0.11999999731779099\n",
      "epoch 5 training batch 500 loss 4.237312316894531 accu 0.09000000357627869\n",
      "##################################\n",
      "epoch 5 # test accuracy 0.0868000015616417 $ test loss 4.245846271514893\n",
      "##################################\n",
      "epoch 6 training batch 100 loss 4.2361040115356445 accu 0.05999999865889549\n",
      "epoch 6 training batch 200 loss 4.322849750518799 accu 0.05000000074505806\n",
      "epoch 6 training batch 300 loss 4.1733927726745605 accu 0.09000000357627869\n",
      "epoch 6 training batch 400 loss 4.021579742431641 accu 0.11999999731779099\n",
      "epoch 6 training batch 500 loss 4.224756717681885 accu 0.10999999940395355\n",
      "##################################\n",
      "epoch 6 # test accuracy 0.08940000087022781 $ test loss 4.232447147369385\n",
      "##################################\n",
      "epoch 7 training batch 100 loss 4.225161075592041 accu 0.07000000029802322\n",
      "epoch 7 training batch 200 loss 4.311829566955566 accu 0.03999999910593033\n",
      "epoch 7 training batch 300 loss 4.158482551574707 accu 0.09000000357627869\n",
      "epoch 7 training batch 400 loss 4.008155345916748 accu 0.12999999523162842\n",
      "epoch 7 training batch 500 loss 4.219616889953613 accu 0.10999999940395355\n",
      "##################################\n",
      "epoch 7 # test accuracy 0.08969999849796295 $ test loss 4.227048397064209\n",
      "##################################\n",
      "epoch 8 training batch 100 loss 4.220872402191162 accu 0.07999999821186066\n",
      "epoch 8 training batch 200 loss 4.306490421295166 accu 0.03999999910593033\n",
      "epoch 8 training batch 300 loss 4.150890827178955 accu 0.09000000357627869\n",
      "epoch 8 training batch 400 loss 4.001223087310791 accu 0.12999999523162842\n",
      "epoch 8 training batch 500 loss 4.217504978179932 accu 0.10999999940395355\n",
      "##################################\n",
      "epoch 8 # test accuracy 0.09070000052452087 $ test loss 4.224828243255615\n",
      "##################################\n",
      "epoch 9 training batch 100 loss 4.219124794006348 accu 0.07000000029802322\n",
      "epoch 9 training batch 200 loss 4.303719997406006 accu 0.05999999865889549\n",
      "epoch 9 training batch 300 loss 4.146760940551758 accu 0.09000000357627869\n",
      "epoch 9 training batch 400 loss 3.9973981380462646 accu 0.11999999731779099\n",
      "epoch 9 training batch 500 loss 4.216651916503906 accu 0.10000000149011612\n",
      "##################################\n",
      "epoch 9 # test accuracy 0.09139999747276306 $ test loss 4.223907947540283\n",
      "##################################\n",
      "epoch 10 training batch 100 loss 4.21835470199585 accu 0.07999999821186066\n",
      "epoch 10 training batch 200 loss 4.302195072174072 accu 0.05999999865889549\n",
      "epoch 10 training batch 300 loss 4.144382476806641 accu 0.09000000357627869\n",
      "epoch 10 training batch 400 loss 3.9951577186584473 accu 0.12999999523162842\n",
      "epoch 10 training batch 500 loss 4.2163190841674805 accu 0.10000000149011612\n",
      "##################################\n",
      "epoch 10 # test accuracy 0.09210000187158585 $ test loss 4.223529815673828\n",
      "##################################\n",
      "epoch 11 training batch 100 loss 4.217968463897705 accu 0.07999999821186066\n",
      "epoch 11 training batch 200 loss 4.301313877105713 accu 0.05999999865889549\n",
      "epoch 11 training batch 300 loss 4.142950057983398 accu 0.09000000357627869\n",
      "epoch 11 training batch 400 loss 3.9937777519226074 accu 0.11999999731779099\n",
      "epoch 11 training batch 500 loss 4.216196060180664 accu 0.10000000149011612\n",
      "##################################\n",
      "epoch 11 # test accuracy 0.09210000187158585 $ test loss 4.223379135131836\n",
      "##################################\n",
      "epoch 12 training batch 100 loss 4.217738628387451 accu 0.07999999821186066\n",
      "epoch 12 training batch 200 loss 4.300784111022949 accu 0.05999999865889549\n",
      "epoch 12 training batch 300 loss 4.142054557800293 accu 0.09000000357627869\n",
      "epoch 12 training batch 400 loss 3.9928929805755615 accu 0.11999999731779099\n",
      "epoch 12 training batch 500 loss 4.216153621673584 accu 0.10000000149011612\n",
      "##################################\n",
      "epoch 12 # test accuracy 0.09200000017881393 $ test loss 4.223324298858643\n",
      "##################################\n",
      "epoch 13 training batch 100 loss 4.217580795288086 accu 0.07999999821186066\n",
      "epoch 13 training batch 200 loss 4.300455093383789 accu 0.05999999865889549\n",
      "epoch 13 training batch 300 loss 4.141480922698975 accu 0.09000000357627869\n",
      "epoch 13 training batch 400 loss 3.992307662963867 accu 0.11999999731779099\n",
      "epoch 13 training batch 500 loss 4.216139793395996 accu 0.10000000149011612\n",
      "##################################\n",
      "epoch 13 # test accuracy 0.0925000011920929 $ test loss 4.2233076095581055\n",
      "##################################\n",
      "epoch 14 training batch 100 loss 4.2174601554870605 accu 0.07999999821186066\n",
      "epoch 14 training batch 200 loss 4.300246715545654 accu 0.05999999865889549\n",
      "epoch 14 training batch 300 loss 4.141106128692627 accu 0.09000000357627869\n",
      "epoch 14 training batch 400 loss 3.9919121265411377 accu 0.11999999731779099\n",
      "epoch 14 training batch 500 loss 4.216134548187256 accu 0.10000000149011612\n",
      "##################################\n",
      "epoch 14 # test accuracy 0.0925000011920929 $ test loss 4.223306179046631\n",
      "##################################\n",
      "epoch 15 training batch 100 loss 4.2173662185668945 accu 0.07999999821186066\n",
      "epoch 15 training batch 200 loss 4.300111293792725 accu 0.05999999865889549\n",
      "epoch 15 training batch 300 loss 4.140857696533203 accu 0.09000000357627869\n",
      "epoch 15 training batch 400 loss 3.991640090942383 accu 0.11999999731779099\n",
      "epoch 15 training batch 500 loss 4.216131210327148 accu 0.10000000149011612\n",
      "##################################\n",
      "epoch 15 # test accuracy 0.09229999780654907 $ test loss 4.2233099937438965\n",
      "##################################\n",
      "epoch 16 training batch 100 loss 4.217290878295898 accu 0.07999999821186066\n",
      "epoch 16 training batch 200 loss 4.300022125244141 accu 0.05999999865889549\n",
      "epoch 16 training batch 300 loss 4.14069128036499 accu 0.09000000357627869\n",
      "epoch 16 training batch 400 loss 3.991450786590576 accu 0.11999999731779099\n",
      "epoch 16 training batch 500 loss 4.216127395629883 accu 0.10000000149011612\n",
      "##################################\n"
     ]
    },
    {
     "name": "stdout",
     "output_type": "stream",
     "text": [
      "epoch 16 # test accuracy 0.09229999780654907 $ test loss 4.223315715789795\n",
      "##################################\n",
      "epoch 17 training batch 100 loss 4.217230319976807 accu 0.07999999821186066\n",
      "epoch 17 training batch 200 loss 4.299962997436523 accu 0.05999999865889549\n",
      "epoch 17 training batch 300 loss 4.1405792236328125 accu 0.09000000357627869\n",
      "epoch 17 training batch 400 loss 3.9913177490234375 accu 0.11999999731779099\n",
      "epoch 17 training batch 500 loss 4.216123580932617 accu 0.10000000149011612\n",
      "##################################\n",
      "epoch 17 # test accuracy 0.09239999949932098 $ test loss 4.223320484161377\n",
      "##################################\n",
      "epoch 18 training batch 100 loss 4.2171831130981445 accu 0.07999999821186066\n",
      "epoch 18 training batch 200 loss 4.299923896789551 accu 0.05999999865889549\n",
      "epoch 18 training batch 300 loss 4.140503406524658 accu 0.09000000357627869\n",
      "epoch 18 training batch 400 loss 3.9912242889404297 accu 0.11999999731779099\n",
      "epoch 18 training batch 500 loss 4.216119766235352 accu 0.10000000149011612\n",
      "##################################\n",
      "epoch 18 # test accuracy 0.09239999949932098 $ test loss 4.223323345184326\n",
      "##################################\n",
      "epoch 19 training batch 100 loss 4.217146396636963 accu 0.07999999821186066\n",
      "epoch 19 training batch 200 loss 4.299896240234375 accu 0.05999999865889549\n",
      "epoch 19 training batch 300 loss 4.140451908111572 accu 0.09000000357627869\n",
      "epoch 19 training batch 400 loss 3.9911582469940186 accu 0.11999999731779099\n",
      "epoch 19 training batch 500 loss 4.216116428375244 accu 0.10000000149011612\n",
      "##################################\n",
      "epoch 19 # test accuracy 0.09239999949932098 $ test loss 4.223325729370117\n",
      "##################################\n",
      "epoch 20 training batch 100 loss 4.2171173095703125 accu 0.07999999821186066\n",
      "epoch 20 training batch 200 loss 4.299877643585205 accu 0.05999999865889549\n",
      "epoch 20 training batch 300 loss 4.140416622161865 accu 0.09000000357627869\n",
      "epoch 20 training batch 400 loss 3.9911108016967773 accu 0.11999999731779099\n",
      "epoch 20 training batch 500 loss 4.216113090515137 accu 0.10000000149011612\n",
      "##################################\n",
      "epoch 20 # test accuracy 0.0925000011920929 $ test loss 4.223328113555908\n",
      "##################################\n"
     ]
    }
   ],
   "source": [
    "train_losses, val_losses = [], []\n",
    "train_accuracies, val_accuracies = [], []\n",
    "with tf.Session() as sess:\n",
    "    sess.run(tf.global_variables_initializer())\n",
    "    for eidx in range(NUM_EPOCHS):\n",
    "        epoch_acc, epoch_loss = [], []\n",
    "        for bidx in range(pca_X.shape[0]// BATCH_SIZE):\n",
    "          start = bidx * BATCH_SIZE\n",
    "          xs, ys = pca_X[start : start + BATCH_SIZE, : ],y_train_data[start : start + BATCH_SIZE, : ]\n",
    "          _, train_loss, train_acc= sess.run([opt, loss, accuracy], feed_dict = {X:xs, Y:ys})    ### Write your code here\n",
    "          if (bidx+1)%100 == 0:\n",
    "              print('epoch {} training batch {} loss {} accu {}'.format(eidx +1 , bidx +1, train_loss, train_acc))\n",
    "          epoch_acc.append(train_acc)\n",
    "          epoch_loss.append(train_loss)\n",
    "        print('##################################')\n",
    "        val_loss, val_acc= sess.run([loss, accuracy],feed_dict = {X:pca_test_X, Y:y_test_data})\n",
    "        print('epoch {} # test accuracy {} $ test loss {}'.format(eidx +1, val_acc, val_loss ))\n",
    "        print('##################################') \n",
    "        # Let keep epoch level values for plotting\n",
    "        train_losses.append(np.mean(epoch_loss))\n",
    "        train_accuracies.append(np.mean(epoch_acc))\n",
    "        val_losses.append(val_loss)\n",
    "        val_accuracies.append(val_acc)"
   ]
  },
  {
   "cell_type": "code",
   "execution_count": 96,
   "metadata": {},
   "outputs": [
    {
     "data": {
      "image/png": "[encoded data removed]",
      "text/plain": [
       "<Figure size 432x288 with 1 Axes>"
      ]
     },
     "metadata": {
      "needs_background": "light"
     },
     "output_type": "display_data"
    }
   ],
   "source": [
    "plt.plot(range(1, NUM_EPOCHS+1),  train_losses)\n",
    "plt.plot(range(1, NUM_EPOCHS+1),  val_losses)\n",
    "plt.title(\"Loss\")\n",
    "plt.legend(['train loss','validation loss'])\n",
    "plt.show()"
   ]
  },
  {
   "cell_type": "code",
   "execution_count": 97,
   "metadata": {},
   "outputs": [
    {
     "data": {
      "image/png": "[encoded data removed]",
      "text/plain": [
       "<Figure size 432x288 with 1 Axes>"
      ]
     },
     "metadata": {
      "needs_background": "light"
     },
     "output_type": "display_data"
    }
   ],
   "source": [
    "plt.plot(range(1, NUM_EPOCHS+1),  train_accuracies)\n",
    "plt.plot(range(1, NUM_EPOCHS+1),  val_accuracies)\n",
    "plt.title(\"Accuracy\")\n",
    "plt.legend(['train accuracy','validation accuracy'])\n",
    "plt.show()"
   ]
  },
  {
   "cell_type": "code",
   "execution_count": 98,
   "metadata": {},
   "outputs": [],
   "source": [
    "with tf.Session() as sess:\n",
    "    sess.run(tf.global_variables_initializer())\n",
    "    ypred = sess.run([ypredicted], feed_dict = {X:pca_test_X})"
   ]
  },
  {
   "cell_type": "code",
   "execution_count": 99,
   "metadata": {},
   "outputs": [
    {
     "name": "stdout",
     "output_type": "stream",
     "text": [
      "0.0082\n",
      "0.006259998981856051\n",
      "[[0 1 0 ... 0 7 0]\n",
      " [0 0 4 ... 0 0 2]\n",
      " [1 0 0 ... 0 2 3]\n",
      " ...\n",
      " [0 1 2 ... 0 2 7]\n",
      " [0 1 1 ... 0 1 5]\n",
      " [1 0 1 ... 0 0 1]]\n"
     ]
    },
    {
     "name": "stderr",
     "output_type": "stream",
     "text": [
      "/anaconda3/lib/python3.7/site-packages/sklearn/metrics/classification.py:1143: UndefinedMetricWarning: F-score is ill-defined and being set to 0.0 in labels with no predicted samples.\n",
      "  'precision', 'predicted', average, warn_for)\n"
     ]
    }
   ],
   "source": [
    "from sklearn.metrics import accuracy_score, f1_score, confusion_matrix\n",
    "print(accuracy_score( y_test.ravel(),ypred[0]))\n",
    "print(f1_score(y_test.ravel(),ypred[0],average='weighted'))\n",
    "print(confusion_matrix(y_test.ravel(), ypred[0]))"
   ]
  },
  {
   "cell_type": "markdown",
   "metadata": {},
   "source": [
    "# Write code for second method based on sklearn library."
   ]
  },
  {
   "cell_type": "code",
   "execution_count": 53,
   "metadata": {},
   "outputs": [],
   "source": [
    "from sklearn.decomposition import PCA as PCA\n",
    "from scipy import stats\n",
    "from sklearn.preprocessing import StandardScaler\n",
    "%matplotlib inline\n",
    "from sklearn.metrics import confusion_matrix, classification_report, precision_score"
   ]
  },
  {
   "cell_type": "code",
   "execution_count": 54,
   "metadata": {},
   "outputs": [
    {
     "name": "stdout",
     "output_type": "stream",
     "text": [
      "37\n",
      "(50000, 37)\n"
     ]
    }
   ],
   "source": [
    "U, E, VT = np.linalg.svd((x_train_data-np.mean(x_train_data,axis=0)), full_matrices=False)\n",
    "relative_variance_capture =  np.cumsum(np.square(E))/np.sum(np.square(E))\n",
    "per_var = relative_variance_capture[-1] * 0.86\n",
    "reduced_dim = np.where(relative_variance_capture >= per_var)[0][0]\n",
    "#reduced_dim = np.where(relative_variance_capture >= 0.96)[0][0]\n",
    "print(reduced_dim)\n",
    "pca=PCA(n_components = reduced_dim)\n",
    "pca_X = pca.fit_transform(x_train_data)\n",
    "pca_test_X = pca.transform(x_test_data)\n",
    "print(pca_X.shape)"
   ]
  },
  {
   "cell_type": "code",
   "execution_count": 97,
   "metadata": {},
   "outputs": [],
   "source": [
    "\"\"\"\n",
    "from sklearn.model_selection import GridSearchCV\n",
    "def svc_param_selection(X, y, nfolds):\n",
    "    Cs = [0.001, 0.01, 0.1, 1, 10]\n",
    "    gammas = [0.001, 0.01, 0.1, 1]\n",
    "    param_grid = {'C': Cs, 'gamma' : gammas}\n",
    "    grid_search = GridSearchCV(svm.SVC(kernel='rbf'), param_grid, cv=nfolds)\n",
    "    grid_search.fit(X, y)\n",
    "    grid_search.best_params_\n",
    "    return grid_search.best_params_\n",
    "    \n",
    "\"\"\""
   ]
  },
  {
   "cell_type": "code",
   "execution_count": null,
   "metadata": {},
   "outputs": [],
   "source": [
    "# svc_param_selection(pca_X, y_train.ravel(), 5)"
   ]
  },
  {
   "cell_type": "code",
   "execution_count": null,
   "metadata": {},
   "outputs": [],
   "source": [
    "\"\"\"\n",
    "from sklearn.ensemble import RandomForestClassifier\n",
    "from sklearn.model_selection import GridSearchCV\n",
    "rfc=RandomForestClassifier(random_state=42)\n",
    "\n",
    "param_grid = { \n",
    "    'n_estimators': [200, 500],\n",
    "    'max_features': ['auto', 'sqrt', 'log2'],\n",
    "    'max_depth' : [4,5,6,7,8],\n",
    "    'criterion' :['gini', 'entropy']\n",
    "}\n",
    "CV_rfc = GridSearchCV(estimator=rfc, param_grid=param_grid, cv= 5)\n",
    "CV_rfc.fit(pca_X, y_train.ravel())\n",
    "CV_rfc.best_params_\n",
    "\"\"\""
   ]
  },
  {
   "cell_type": "code",
   "execution_count": null,
   "metadata": {},
   "outputs": [],
   "source": [
    "\"\"\"\n",
    "rfc1=RandomForestClassifier(random_state=42, max_features='auto', n_estimators= 200, max_depth=8, criterion='gini')\n",
    "rfc1.fit(pca_X, y_train.ravel())\n",
    "pred=rfc1.predict(pca_test_X)\n",
    "\"\"\""
   ]
  },
  {
   "cell_type": "markdown",
   "metadata": {},
   "source": [
    "Now since the dimensions are educed, the next task is clasification."
   ]
  },
  {
   "cell_type": "markdown",
   "metadata": {},
   "source": [
    "# RANDOM FOREST CLASSIFIER - 19.12% accuracy"
   ]
  },
  {
   "cell_type": "code",
   "execution_count": 62,
   "metadata": {},
   "outputs": [
    {
     "name": "stdout",
     "output_type": "stream",
     "text": [
      "0.1912\n",
      "0.17736386991952724\n",
      "[[36  4  0 ...  1  0  0]\n",
      " [ 0 44  0 ...  3  1  0]\n",
      " [ 0  1 12 ...  1  3  2]\n",
      " ...\n",
      " [ 1  6  1 ... 19  0  2]\n",
      " [ 1  0  3 ...  2  7  3]\n",
      " [ 0  0  1 ...  1  0 34]]\n"
     ]
    }
   ],
   "source": [
    "from sklearn.ensemble import RandomForestClassifier\n",
    "\n",
    "clf=RandomForestClassifier(n_estimators = 300, max_features = 'auto')\n",
    "\n",
    "#Train the model using the training sets y_pred=clf.predict(X_test)\n",
    "clf.fit(pca_X, y_train.ravel())\n",
    "\n",
    "y_pred = clf.predict(pca_test_X)\n",
    "print(clf.score(pca_test_X, y_test))\n",
    "print(f1_score(y_test, y_pred, average='weighted'))\n",
    "print(confusion_matrix(y_test.ravel(), y_pred))"
   ]
  },
  {
   "cell_type": "markdown",
   "metadata": {},
   "source": [
    "Random Forest Classifier yields an accuracy of 19.12% with 300 estimators."
   ]
  },
  {
   "cell_type": "markdown",
   "metadata": {},
   "source": [
    "# Support Vector Machines - 18.04% accuracy"
   ]
  },
  {
   "cell_type": "code",
   "execution_count": 60,
   "metadata": {},
   "outputs": [],
   "source": [
    "from sklearn import svm"
   ]
  },
  {
   "cell_type": "code",
   "execution_count": 61,
   "metadata": {},
   "outputs": [
    {
     "name": "stderr",
     "output_type": "stream",
     "text": [
      "/anaconda3/lib/python3.7/site-packages/sklearn/svm/base.py:196: FutureWarning: The default value of gamma will change from 'auto' to 'scale' in version 0.22 to account better for unscaled features. Set gamma explicitly to 'auto' or 'scale' to avoid this warning.\n",
      "  \"avoid this warning.\", FutureWarning)\n"
     ]
    },
    {
     "name": "stdout",
     "output_type": "stream",
     "text": [
      "0.1804\n",
      "0.17335482208734562\n",
      "[[33  2  1 ...  0  0  1]\n",
      " [ 0 36  0 ...  4  1  0]\n",
      " [ 1  2  7 ...  2  5  4]\n",
      " ...\n",
      " [ 1  4  2 ... 23  1  1]\n",
      " [ 1  1  3 ...  4  9  2]\n",
      " [ 0  0  0 ...  0  2 31]]\n"
     ]
    }
   ],
   "source": [
    "svm_pca = svm.SVC()\n",
    "svm_pca.fit(pca_X, y_train.ravel())\n",
    "pred = svm_pca.predict(pca_test_X)\n",
    "print(svm_pca.score(pca_test_X, y_test))\n",
    "print(f1_score(y_test, pred, average='weighted'))\n",
    "print(confusion_matrix(y_test.ravel(), pred))"
   ]
  },
  {
   "cell_type": "markdown",
   "metadata": {},
   "source": [
    "Support Vector Machines yield an accuracy of 18.04% as another alternative and takes lesser time to run than Random Forests."
   ]
  },
  {
   "cell_type": "markdown",
   "metadata": {},
   "source": [
    "# Rough work"
   ]
  },
  {
   "cell_type": "code",
   "execution_count": null,
   "metadata": {},
   "outputs": [],
   "source": [
    "#FISHER LDA"
   ]
  },
  {
   "cell_type": "code",
   "execution_count": null,
   "metadata": {},
   "outputs": [],
   "source": [
    "from sklearn.discriminant_analysis import LinearDiscriminantAnalysis as LDA\n",
    "lda = LDA(solver = 'svd')\n",
    "X_lda = lda.fit_transform(x_train_data, y_train.ravel())\n",
    "X_lda_test = lda.transform(x_test_data)\n",
    "print(X_lda.shape)\n",
    "print(X_lda_test.shape)"
   ]
  },
  {
   "cell_type": "code",
   "execution_count": null,
   "metadata": {},
   "outputs": [],
   "source": [
    "from sklearn.discriminant_analysis import LinearDiscriminantAnalysis as LDA\n",
    "fisher_lda = LDA(solver = 'eigen')\n",
    "lda_X = lda.fit(x_train_data, y_train.ravel())\n",
    "fisher_lda_X = lda_X.transform(x_train_data)\n",
    "fisher_lda_test_X = lda_X.transform(x_test_data)\n",
    "print(fisher_lda_X.shape)\n",
    "print(fisher_lda_test_X.shape)"
   ]
  },
  {
   "cell_type": "code",
   "execution_count": null,
   "metadata": {},
   "outputs": [],
   "source": [
    "#Quadratic Discriminant Analysis"
   ]
  },
  {
   "cell_type": "code",
   "execution_count": null,
   "metadata": {},
   "outputs": [],
   "source": [
    "#QDA\n",
    "from sklearn.discriminant_analysis import QuadraticDiscriminantAnalysis as QDA\n",
    "qda = QDA()\n",
    "qda_X = qda.fit(x_train_data, y_train.ravel())\n",
    "qda_test_X = qda_X.predict(x_test_data)\n",
    "#print(np.unique(qda_test_X, return_counts=True))\n",
    "#print(confusion_matrix(qda_test_X, y_test))\n",
    "#print(classification_report(y_test, qda_test_X, digits=3))"
   ]
  },
  {
   "cell_type": "code",
   "execution_count": null,
   "metadata": {},
   "outputs": [],
   "source": [
    "#Support Vector Machines"
   ]
  },
  {
   "cell_type": "code",
   "execution_count": null,
   "metadata": {},
   "outputs": [],
   "source": [
    "svm_pca_poly = svm.SVC(kernel = 'poly', degree = 8)\n",
    "svm_pca_poly.fit(pca_X, y_train.ravel())\n",
    "print(svm_pca_poly.score(pca_test_X, y_test))"
   ]
  },
  {
   "cell_type": "code",
   "execution_count": null,
   "metadata": {},
   "outputs": [],
   "source": [
    "svm_pca_rbf = svm.SVC(kernel = 'rbf')\n",
    "svm_pca_rbf.fit(pca_X, y_train.ravel())\n",
    "print(svm_pca_rbf.score(pca_test_X, y_test))"
   ]
  },
  {
   "cell_type": "code",
   "execution_count": null,
   "metadata": {},
   "outputs": [],
   "source": [
    "svm_pca_sig = svm.SVC(kernel = 'sigmoid')\n",
    "svm_pca_sig.fit(pca_X, y_train.ravel())\n",
    "pred = svm_pca_sig.predict(pca_test_X)\n",
    "print(svm_pca_sig.score(pca_test_X, y_test))"
   ]
  },
  {
   "cell_type": "code",
   "execution_count": null,
   "metadata": {},
   "outputs": [],
   "source": [
    "#DECISION TREE"
   ]
  },
  {
   "cell_type": "code",
   "execution_count": null,
   "metadata": {},
   "outputs": [],
   "source": [
    "from sklearn.tree import DecisionTreeClassifier\n",
    "from sklearn import metrics"
   ]
  },
  {
   "cell_type": "code",
   "execution_count": null,
   "metadata": {},
   "outputs": [],
   "source": [
    "detree = DecisionTreeClassifier()\n",
    "detree = detree.fit(pca_X, y_train.ravel())\n",
    "pred = detree.predict(pca_test_X)\n",
    "accuracy = metrics.accuracy_score(y_test, pred)\n",
    "print(accuracy)\n",
    "print(detree.score(pca_test_X, y_test))\n",
    "\n"
   ]
  },
  {
   "cell_type": "code",
   "execution_count": null,
   "metadata": {},
   "outputs": [],
   "source": [
    "#LOGISTIC REGRESSION"
   ]
  },
  {
   "cell_type": "code",
   "execution_count": null,
   "metadata": {},
   "outputs": [],
   "source": [
    "from sklearn.linear_model import LogisticRegression\n",
    "\n",
    "log_model_pca = LogisticRegression(solver='saga').fit(pca_X, y_train.ravel())\n",
    "print(log_model_pca.score(pca_test_X, y_test))"
   ]
  },
  {
   "cell_type": "code",
   "execution_count": null,
   "metadata": {},
   "outputs": [],
   "source": [
    "from sklearn.linear_model import LogisticRegression\n",
    "from sklearn import metrics\n",
    "log_model_pca = LogisticRegression(solver='lbfgs').fit(pca_X, y_train.ravel())\n",
    "pred = log_model_pca.predict(pca_test_X)\n",
    "print(log_model_pca.score(pca_test_X, y_test))"
   ]
  },
  {
   "cell_type": "code",
   "execution_count": null,
   "metadata": {},
   "outputs": [],
   "source": [
    "#K NEAREST NEIGHBOURS CLASSIFIER"
   ]
  },
  {
   "cell_type": "code",
   "execution_count": null,
   "metadata": {},
   "outputs": [],
   "source": [
    "from sklearn.neighbors import KNeighborsClassifier\n",
    "\n",
    "#Create KNN Classifier\n",
    "knn = KNeighborsClassifier(n_neighbors=10)\n",
    "\n",
    "#Train the model using the training sets\n",
    "knn.fit(pca_X, y_train.ravel())\n",
    "\n",
    "#Predict the response for test dataset\n",
    "y_pred = knn.predict(pca_test_X)\n",
    "print(knn.score(pca_test_X, y_test))\n",
    "\n",
    "\n"
   ]
  },
  {
   "cell_type": "code",
   "execution_count": null,
   "metadata": {},
   "outputs": [],
   "source": [
    "#LINEAR DISCRIMINANT ANALYSIS CLASSIFIER"
   ]
  },
  {
   "cell_type": "code",
   "execution_count": null,
   "metadata": {},
   "outputs": [],
   "source": [
    "from sklearn.discriminant_analysis import LinearDiscriminantAnalysis as LDA\n",
    "lda_class_model = LDA(solver = 'svd')\n",
    "lda_class_model.fit(pca_X, y_train.ravel())\n",
    "lda_class_model_pred = lda_class_model.predict(pca_test_X)\n",
    "\n",
    "print(lda_class_model.score(pca_test_X, y_test))\n",
    "print(f1_score(y_test, lda_class_model_pred, average='weighted'))\n",
    "print(confusion_matrix(y_test.ravel(), lda_class_model_pred))\n",
    "#print(confusion_matrix(y_test.ravel(),ypred[0]))\n",
    "#print(classification_report(y_test, lda_class_model_pred, digits=3))\n"
   ]
  },
  {
   "cell_type": "code",
   "execution_count": null,
   "metadata": {},
   "outputs": [],
   "source": [
    "from sklearn.discriminant_analysis import LinearDiscriminantAnalysis\n",
    "lda_class_model_fisher = LinearDiscriminantAnalysis()\n",
    "lda_class_model_fisher.fit(X_lda,y_train.ravel())\n",
    "lda_class_model_fisher_pred = lda_class_model_fisher.predict(X_lda_test)\n",
    "print(lda_class_model_fisher.score(X_lda_test,y_test))\n",
    "print(f1_score(y_test,lda_class_model_fisher_pred, average='weighted'))\n",
    "print(confusion_matrix(y_test.ravel(), lda_class_model_pred))"
   ]
  },
  {
   "cell_type": "code",
   "execution_count": null,
   "metadata": {},
   "outputs": [],
   "source": [
    "#Random Forests"
   ]
  },
  {
   "cell_type": "code",
   "execution_count": null,
   "metadata": {},
   "outputs": [],
   "source": [
    "from sklearn.ensemble import RandomForestClassifier\n",
    "\n",
    "clf=RandomForestClassifier(n_estimators = 150)\n",
    "\n",
    "#Train the model using the training sets y_pred=clf.predict(X_test)\n",
    "clf.fit(pca_X, y_train.ravel())\n",
    "\n",
    "y_pred = clf.predict(pca_test_X)\n",
    "print(clf.score(pca_test_X, y_test))"
   ]
  },
  {
   "cell_type": "code",
   "execution_count": null,
   "metadata": {},
   "outputs": [],
   "source": [
    "from sklearn.ensemble import RandomForestClassifier\n",
    "\n",
    "clf=RandomForestClassifier(n_estimators = 400, max_features = 'auto')\n",
    "\n",
    "#Train the model using the training sets y_pred=clf.predict(X_test)\n",
    "clf.fit(pca_X, y_train.ravel())\n",
    "\n",
    "y_pred = clf.predict(pca_test_X)\n",
    "print(clf.score(pca_test_X, y_test))"
   ]
  },
  {
   "cell_type": "code",
   "execution_count": null,
   "metadata": {},
   "outputs": [],
   "source": [
    "from sklearn.ensemble import RandomForestClassifier\n",
    "\n",
    "clf=RandomForestClassifier(n_estimators = 200)\n",
    "\n",
    "#Train the model using the training sets y_pred=clf.predict(X_test)\n",
    "clf.fit(pca_X, y_train.ravel())\n",
    "\n",
    "y_pred = clf.predict(pca_test_X)\n",
    "\n",
    "print(clf.score(pca_test_X, y_test))"
   ]
  },
  {
   "cell_type": "code",
   "execution_count": null,
   "metadata": {},
   "outputs": [],
   "source": [
    "from sklearn.ensemble import RandomForestClassifier\n",
    "\n",
    "clf=RandomForestClassifier(n_estimators = 250)\n",
    "\n",
    "#Train the model using the training sets y_pred=clf.predict(X_test)\n",
    "clf.fit(pca_X, y_train.ravel())\n",
    "\n",
    "y_pred = clf.predict(pca_test_X)\n",
    "\n",
    "accuracy = metrics.accuracy_score(y_test, pred)\n",
    "print(accuracy)\n",
    "print(clf.score(pca_test_X, y_test))"
   ]
  },
  {
   "cell_type": "code",
   "execution_count": null,
   "metadata": {},
   "outputs": [],
   "source": [
    "from sklearn.ensemble import RandomForestClassifier\n",
    "\n",
    "clf=RandomForestClassifier(n_estimators = 300)\n",
    "\n",
    "#Train the model using the training sets y_pred=clf.predict(X_test)\n",
    "clf.fit(pca_X, y_train.ravel())\n",
    "\n",
    "y_pred = clf.predict(pca_test_X)\n",
    "print(clf.score(pca_test_X, y_test))"
   ]
  },
  {
   "cell_type": "code",
   "execution_count": null,
   "metadata": {},
   "outputs": [],
   "source": [
    "from sklearn.ensemble import RandomForestClassifier\n",
    "\n",
    "clf=RandomForestClassifier(n_estimators = 500, max_features = 'auto')\n",
    "\n",
    "#Train the model using the training sets y_pred=clf.predict(X_test)\n",
    "clf.fit(pca_X, y_train.ravel())\n",
    "\n",
    "y_pred = clf.predict(pca_test_X)\n",
    "print(clf.score(pca_test_X, y_test))"
   ]
  },
  {
   "cell_type": "code",
   "execution_count": null,
   "metadata": {},
   "outputs": [],
   "source": [
    "from sklearn.ensemble import RandomForestClassifier\n",
    "\n",
    "clf=RandomForestClassifier(n_estimators = 1000, max_features = 'auto')\n",
    "\n",
    "#Train the model using the training sets y_pred=clf.predict(X_test)\n",
    "clf.fit(pca_X, y_train.ravel())\n",
    "\n",
    "y_pred = clf.predict(pca_test_X)\n",
    "print(clf.score(pca_test_X, y_test))"
   ]
  }
 ],
 "metadata": {
  "colab": {
   "collapsed_sections": [],
   "name": "ml_competition_and_sample_code.ipynb",
   "provenance": [],
   "version": "0.3.2"
  },
  "kernelspec": {
   "display_name": "Python 3",
   "language": "python",
   "name": "python3"
  },
  "language_info": {
   "codemirror_mode": {
    "name": "ipython",
    "version": 3
   },
   "file_extension": ".py",
   "mimetype": "text/x-python",
   "name": "python",
   "nbconvert_exporter": "python",
   "pygments_lexer": "ipython3",
   "version": "3.7.3"
  },
  "toc": {
   "base_numbering": 1,
   "nav_menu": {},
   "number_sections": true,
   "sideBar": true,
   "skip_h1_title": false,
   "title_cell": "Table of Contents",
   "title_sidebar": "Contents",
   "toc_cell": false,
   "toc_position": {},
   "toc_section_display": true,
   "toc_window_display": false
  },
  "varInspector": {
   "cols": {
    "lenName": 16,
    "lenType": 16,
    "lenVar": 40
   },
   "kernels_config": {
    "python": {
     "delete_cmd_postfix": "",
     "delete_cmd_prefix": "del ",
     "library": "var_list.py",
     "varRefreshCmd": "print(var_dic_list())"
    },
    "r": {
     "delete_cmd_postfix": ") ",
     "delete_cmd_prefix": "rm(",
     "library": "var_list.r",
     "varRefreshCmd": "cat(var_dic_list()) "
    }
   },
   "types_to_exclude": [
    "module",
    "function",
    "builtin_function_or_method",
    "instance",
    "_Feature"
   ],
   "window_display": false
  }
 },
 "nbformat": 4,
 "nbformat_minor": 1
}
